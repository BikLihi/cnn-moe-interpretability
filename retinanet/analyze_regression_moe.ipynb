{
 "metadata": {
  "language_info": {
   "codemirror_mode": {
    "name": "ipython",
    "version": 3
   },
   "file_extension": ".py",
   "mimetype": "text/x-python",
   "name": "python",
   "nbconvert_exporter": "python",
   "pygments_lexer": "ipython3",
   "version": "3.6.9-final"
  },
  "orig_nbformat": 2,
  "kernelspec": {
   "name": "python_defaultSpec_1597992362719",
   "display_name": "Python 3.6.9 64-bit ('ml_venv': venv)"
  }
 },
 "nbformat": 4,
 "nbformat_minor": 2,
 "cells": [
  {
   "cell_type": "code",
   "execution_count": 1,
   "metadata": {},
   "outputs": [],
   "source": [
    "import argparse\n",
    "import collections\n",
    "\n",
    "import wandb\n",
    "import time\n",
    "import numpy as np\n",
    "import os\n",
    "import cv2\n",
    "\n",
    "from PIL import Image\n",
    "\n",
    "import torch\n",
    "import torch.optim as optim\n",
    "from torchvision import transforms\n",
    "from torch.utils.data import DataLoader\n",
    "\n",
    "\n",
    "from models.retina.retinanet import model, coco_eval\n",
    "from models.retina.analyze_regression_moe import analyze_regression\n",
    "from models.retina.retinanet.dataloader import CocoDataset, CocoSubDataset, CSVDataset, collater, Resizer, AspectRatioBasedSampler, Augmenter, \\\n",
    "    Normalizer\n",
    "from models.moe_layer.soft_gating_networks import SimpleGate\n",
    "from models.moe_layer.static_gating_networks import SingleWeightingGatingNetwork\n"
   ]
  },
  {
   "cell_type": "code",
   "execution_count": 2,
   "metadata": {},
   "outputs": [],
   "source": [
    "class_file = '/home/lb4653/mixture-of-experts-thesis/data/coco/subset.names'\n",
    "classes = [line.strip() for line in open(class_file, 'r')]"
   ]
  },
  {
   "cell_type": "code",
   "execution_count": 3,
   "metadata": {
    "tags": []
   },
   "outputs": [],
   "source": [
    "    # Create the model\n",
    "    retinanet = model.resnet50(num_classes=len(classes), pretrained=False)\n",
    "    retinanet.freeze_bn()\n",
    "\n",
    "    # Freeze all layers\n",
    "    for param in retinanet.parameters():\n",
    "        param.requires_grad = False\n",
    "\n",
    "    # Add MoE Regressor\n",
    "    gate = SimpleGate(in_channels=256, \n",
    "                        num_experts=4,\n",
    "                        top_k=2,\n",
    "                        use_noise=True,\n",
    "                        name='SimpleGate',\n",
    "                        loss_fkt='kl_divergence',\n",
    "                        w_aux_loss=0.5\n",
    "                        )\n",
    "\n",
    "    retinanet.regressionModel = model.RegressionModelMoE(num_features_in=256, num_experts=4, top_k=2, gating_network=gate)\n",
    "    file_model = wandb.restore('retinanet_final.tar', run_path='lukas-struppek/RetinaNet/b1468is2')\n",
    "    retinanet.load_state_dict(torch.load('retinanet_final.tar')['model_state_dict'])\n",
    "\n",
    "    retinanet = retinanet.cuda()\n",
    "\n"
   ]
  },
  {
   "cell_type": "code",
   "execution_count": 4,
   "metadata": {
    "tags": []
   },
   "outputs": [
    {
     "output_type": "stream",
     "name": "stdout",
     "text": "loading annotations into memory...\nDone (t=0.37s)\ncreating index...\nindex created!\n"
    }
   ],
   "source": [
    "dataset_val = CocoSubDataset('/home/lb4653/mixture-of-experts-thesis/data/coco', classes=classes, set_name='val2017',\n",
    "                                  transform=transforms.Compose([Normalizer(), Resizer()]))"
   ]
  },
  {
   "cell_type": "code",
   "execution_count": 5,
   "metadata": {
    "tags": []
   },
   "outputs": [
    {
     "output_type": "stream",
     "name": "stdout",
     "text": "4097/4098Loading and preparing results...\nDONE (t=1.87s)\ncreating index...\nindex created!\nRunning per image evaluation...\nEvaluate annotation type *bbox*\nDONE (t=26.46s).\nAccumulating evaluation results...\nDONE (t=3.62s).\n Average Precision  (AP) @[ IoU=0.50:0.95 | area=   all | maxDets=100 ] = 0.384\n Average Precision  (AP) @[ IoU=0.50      | area=   all | maxDets=100 ] = 0.585\n Average Precision  (AP) @[ IoU=0.75      | area=   all | maxDets=100 ] = 0.401\n Average Precision  (AP) @[ IoU=0.50:0.95 | area= small | maxDets=100 ] = 0.157\n Average Precision  (AP) @[ IoU=0.50:0.95 | area=medium | maxDets=100 ] = 0.403\n Average Precision  (AP) @[ IoU=0.50:0.95 | area= large | maxDets=100 ] = 0.552\n Average Recall     (AR) @[ IoU=0.50:0.95 | area=   all | maxDets=  1 ] = 0.297\n Average Recall     (AR) @[ IoU=0.50:0.95 | area=   all | maxDets= 10 ] = 0.482\n Average Recall     (AR) @[ IoU=0.50:0.95 | area=   all | maxDets=100 ] = 0.522\n Average Recall     (AR) @[ IoU=0.50:0.95 | area= small | maxDets=100 ] = 0.320\n Average Recall     (AR) @[ IoU=0.50:0.95 | area=medium | maxDets=100 ] = 0.557\n Average Recall     (AR) @[ IoU=0.50:0.95 | area= large | maxDets=100 ] = 0.700\nEvaluation finished\n"
    }
   ],
   "source": [
    "coco_eval_result_complete = coco_eval.evaluate_coco(dataset_val, retinanet)"
   ]
  },
  {
   "cell_type": "code",
   "execution_count": 6,
   "metadata": {
    "tags": []
   },
   "outputs": [
    {
     "output_type": "stream",
     "name": "stdout",
     "text": "4097/4098Loading and preparing results...\nDONE (t=2.44s)\ncreating index...\nindex created!\nRunning per image evaluation...\nEvaluate annotation type *bbox*\nDONE (t=27.67s).\nAccumulating evaluation results...\nDONE (t=3.69s).\n Average Precision  (AP) @[ IoU=0.50:0.95 | area=   all | maxDets=100 ] = 0.365\n Average Precision  (AP) @[ IoU=0.50      | area=   all | maxDets=100 ] = 0.581\n Average Precision  (AP) @[ IoU=0.75      | area=   all | maxDets=100 ] = 0.384\n Average Precision  (AP) @[ IoU=0.50:0.95 | area= small | maxDets=100 ] = 0.156\n Average Precision  (AP) @[ IoU=0.50:0.95 | area=medium | maxDets=100 ] = 0.393\n Average Precision  (AP) @[ IoU=0.50:0.95 | area= large | maxDets=100 ] = 0.518\n Average Recall     (AR) @[ IoU=0.50:0.95 | area=   all | maxDets=  1 ] = 0.283\n Average Recall     (AR) @[ IoU=0.50:0.95 | area=   all | maxDets= 10 ] = 0.464\n Average Recall     (AR) @[ IoU=0.50:0.95 | area=   all | maxDets=100 ] = 0.504\n Average Recall     (AR) @[ IoU=0.50:0.95 | area= small | maxDets=100 ] = 0.314\n Average Recall     (AR) @[ IoU=0.50:0.95 | area=medium | maxDets=100 ] = 0.547\n Average Recall     (AR) @[ IoU=0.50:0.95 | area= large | maxDets=100 ] = 0.664\nEvaluation finished\n4096/40984097/4098Loading and preparing results...\nDONE (t=1.78s)\ncreating index...\nindex created!\nRunning per image evaluation...\nEvaluate annotation type *bbox*\nDONE (t=27.19s).\nAccumulating evaluation results...\nDONE (t=3.58s).\n Average Precision  (AP) @[ IoU=0.50:0.95 | area=   all | maxDets=100 ] = 0.373\n Average Precision  (AP) @[ IoU=0.50      | area=   all | maxDets=100 ] = 0.583\n Average Precision  (AP) @[ IoU=0.75      | area=   all | maxDets=100 ] = 0.394\n Average Precision  (AP) @[ IoU=0.50:0.95 | area= small | maxDets=100 ] = 0.151\n Average Precision  (AP) @[ IoU=0.50:0.95 | area=medium | maxDets=100 ] = 0.393\n Average Precision  (AP) @[ IoU=0.50:0.95 | area= large | maxDets=100 ] = 0.536\n Average Recall     (AR) @[ IoU=0.50:0.95 | area=   all | maxDets=  1 ] = 0.289\n Average Recall     (AR) @[ IoU=0.50:0.95 | area=   all | maxDets= 10 ] = 0.471\n Average Recall     (AR) @[ IoU=0.50:0.95 | area=   all | maxDets=100 ] = 0.511\n Average Recall     (AR) @[ IoU=0.50:0.95 | area= small | maxDets=100 ] = 0.307\n Average Recall     (AR) @[ IoU=0.50:0.95 | area=medium | maxDets=100 ] = 0.548\n Average Recall     (AR) @[ IoU=0.50:0.95 | area= large | maxDets=100 ] = 0.685\nEvaluation finished\n4097/4098Loading and preparing results...\nDONE (t=2.67s)\ncreating index...\nindex created!\nRunning per image evaluation...\nEvaluate annotation type *bbox*\nDONE (t=27.26s).\nAccumulating evaluation results...\nDONE (t=3.64s).\n Average Precision  (AP) @[ IoU=0.50:0.95 | area=   all | maxDets=100 ] = 0.356\n Average Precision  (AP) @[ IoU=0.50      | area=   all | maxDets=100 ] = 0.573\n Average Precision  (AP) @[ IoU=0.75      | area=   all | maxDets=100 ] = 0.369\n Average Precision  (AP) @[ IoU=0.50:0.95 | area= small | maxDets=100 ] = 0.133\n Average Precision  (AP) @[ IoU=0.50:0.95 | area=medium | maxDets=100 ] = 0.367\n Average Precision  (AP) @[ IoU=0.50:0.95 | area= large | maxDets=100 ] = 0.523\n Average Recall     (AR) @[ IoU=0.50:0.95 | area=   all | maxDets=  1 ] = 0.280\n Average Recall     (AR) @[ IoU=0.50:0.95 | area=   all | maxDets= 10 ] = 0.450\n Average Recall     (AR) @[ IoU=0.50:0.95 | area=   all | maxDets=100 ] = 0.489\n Average Recall     (AR) @[ IoU=0.50:0.95 | area= small | maxDets=100 ] = 0.277\n Average Recall     (AR) @[ IoU=0.50:0.95 | area=medium | maxDets=100 ] = 0.520\n Average Recall     (AR) @[ IoU=0.50:0.95 | area= large | maxDets=100 ] = 0.671\nEvaluation finished\n4097/4098Loading and preparing results...\nDONE (t=2.37s)\ncreating index...\nindex created!\nRunning per image evaluation...\nEvaluate annotation type *bbox*\nDONE (t=26.41s).\nAccumulating evaluation results...\nDONE (t=3.52s).\n Average Precision  (AP) @[ IoU=0.50:0.95 | area=   all | maxDets=100 ] = 0.366\n Average Precision  (AP) @[ IoU=0.50      | area=   all | maxDets=100 ] = 0.581\n Average Precision  (AP) @[ IoU=0.75      | area=   all | maxDets=100 ] = 0.388\n Average Precision  (AP) @[ IoU=0.50:0.95 | area= small | maxDets=100 ] = 0.151\n Average Precision  (AP) @[ IoU=0.50:0.95 | area=medium | maxDets=100 ] = 0.395\n Average Precision  (AP) @[ IoU=0.50:0.95 | area= large | maxDets=100 ] = 0.523\n Average Recall     (AR) @[ IoU=0.50:0.95 | area=   all | maxDets=  1 ] = 0.285\n Average Recall     (AR) @[ IoU=0.50:0.95 | area=   all | maxDets= 10 ] = 0.465\n Average Recall     (AR) @[ IoU=0.50:0.95 | area=   all | maxDets=100 ] = 0.504\n Average Recall     (AR) @[ IoU=0.50:0.95 | area= small | maxDets=100 ] = 0.302\n Average Recall     (AR) @[ IoU=0.50:0.95 | area=medium | maxDets=100 ] = 0.550\n Average Recall     (AR) @[ IoU=0.50:0.95 | area= large | maxDets=100 ] = 0.672\nEvaluation finished\n"
    }
   ],
   "source": [
    "coco_eval_result_single_experts = []\n",
    "singleGate = SingleWeightingGatingNetwork(in_channels=256, expert_index=0, num_experts=4, name='SingleWeightGatingNetwork')\n",
    "retinanet.regressionModel.gate = singleGate\n",
    "for i in range(4):\n",
    "    retinanet.regressionModel.gate.expert_index = i\n",
    "    retinanet.to('cuda:0')\n",
    "    coco_eval_result_single_experts.append(coco_eval.evaluate_coco(dataset_val, retinanet)['coco_eval'].stats.copy())"
   ]
  },
  {
   "cell_type": "code",
   "execution_count": 7,
   "metadata": {
    "tags": []
   },
   "outputs": [
    {
     "output_type": "stream",
     "name": "stdout",
     "text": "mAP expert  0 0.3650288967189132\nmAP expert  1 0.37295279973813045\nmAP expert  2 0.3559625303375254\nmAP expert  3 0.36642777004196947\n\nAP50 expert  0 0.5810489528640568\nAP50 expert  1 0.5825522325630457\nAP50 expert  2 0.5728500772451078\nAP50 expert  3 0.5809641011165386\n"
    }
   ],
   "source": [
    "for i in range(4):\n",
    "    print('mAP expert ', i, coco_eval_result_single_experts[i][0])\n",
    "print()\n",
    "for i in range(4):\n",
    "    print('AP50 expert ', i, coco_eval_result_single_experts[i][1])"
   ]
  },
  {
   "cell_type": "code",
   "execution_count": 8,
   "metadata": {
    "tags": []
   },
   "outputs": [
    {
     "output_type": "stream",
     "name": "stdout",
     "text": "4097/4098Loading and preparing results...\nDONE (t=2.47s)\ncreating index...\nindex created!\nRunning per image evaluation...\nEvaluate annotation type *bbox*\nDONE (t=26.01s).\nAccumulating evaluation results...\nDONE (t=3.53s).\n Average Precision  (AP) @[ IoU=0.50:0.95 | area=   all | maxDets=100 ] = 0.378\n Average Precision  (AP) @[ IoU=0.50      | area=   all | maxDets=100 ] = 0.583\n Average Precision  (AP) @[ IoU=0.75      | area=   all | maxDets=100 ] = 0.397\n Average Precision  (AP) @[ IoU=0.50:0.95 | area= small | maxDets=100 ] = 0.155\n Average Precision  (AP) @[ IoU=0.50:0.95 | area=medium | maxDets=100 ] = 0.398\n Average Precision  (AP) @[ IoU=0.50:0.95 | area= large | maxDets=100 ] = 0.543\n Average Recall     (AR) @[ IoU=0.50:0.95 | area=   all | maxDets=  1 ] = 0.293\n Average Recall     (AR) @[ IoU=0.50:0.95 | area=   all | maxDets= 10 ] = 0.475\n Average Recall     (AR) @[ IoU=0.50:0.95 | area=   all | maxDets=100 ] = 0.515\n Average Recall     (AR) @[ IoU=0.50:0.95 | area= small | maxDets=100 ] = 0.313\n Average Recall     (AR) @[ IoU=0.50:0.95 | area=medium | maxDets=100 ] = 0.552\n Average Recall     (AR) @[ IoU=0.50:0.95 | area= large | maxDets=100 ] = 0.693\nEvaluation finished\n4096/40984097/4098Loading and preparing results...\nDONE (t=1.74s)\ncreating index...\nindex created!\nRunning per image evaluation...\nEvaluate annotation type *bbox*\nDONE (t=26.72s).\nAccumulating evaluation results...\nDONE (t=3.57s).\n Average Precision  (AP) @[ IoU=0.50:0.95 | area=   all | maxDets=100 ] = 0.384\n Average Precision  (AP) @[ IoU=0.50      | area=   all | maxDets=100 ] = 0.585\n Average Precision  (AP) @[ IoU=0.75      | area=   all | maxDets=100 ] = 0.401\n Average Precision  (AP) @[ IoU=0.50:0.95 | area= small | maxDets=100 ] = 0.157\n Average Precision  (AP) @[ IoU=0.50:0.95 | area=medium | maxDets=100 ] = 0.403\n Average Precision  (AP) @[ IoU=0.50:0.95 | area= large | maxDets=100 ] = 0.552\n Average Recall     (AR) @[ IoU=0.50:0.95 | area=   all | maxDets=  1 ] = 0.297\n Average Recall     (AR) @[ IoU=0.50:0.95 | area=   all | maxDets= 10 ] = 0.482\n Average Recall     (AR) @[ IoU=0.50:0.95 | area=   all | maxDets=100 ] = 0.522\n Average Recall     (AR) @[ IoU=0.50:0.95 | area= small | maxDets=100 ] = 0.320\n Average Recall     (AR) @[ IoU=0.50:0.95 | area=medium | maxDets=100 ] = 0.557\n Average Recall     (AR) @[ IoU=0.50:0.95 | area= large | maxDets=100 ] = 0.700\nEvaluation finished\n4096/40984097/4098Loading and preparing results...\nDONE (t=1.73s)\ncreating index...\nindex created!\nRunning per image evaluation...\nEvaluate annotation type *bbox*\nDONE (t=26.56s).\nAccumulating evaluation results...\nDONE (t=3.51s).\n Average Precision  (AP) @[ IoU=0.50:0.95 | area=   all | maxDets=100 ] = 0.383\n Average Precision  (AP) @[ IoU=0.50      | area=   all | maxDets=100 ] = 0.586\n Average Precision  (AP) @[ IoU=0.75      | area=   all | maxDets=100 ] = 0.401\n Average Precision  (AP) @[ IoU=0.50:0.95 | area= small | maxDets=100 ] = 0.158\n Average Precision  (AP) @[ IoU=0.50:0.95 | area=medium | maxDets=100 ] = 0.404\n Average Precision  (AP) @[ IoU=0.50:0.95 | area= large | maxDets=100 ] = 0.551\n Average Recall     (AR) @[ IoU=0.50:0.95 | area=   all | maxDets=  1 ] = 0.297\n Average Recall     (AR) @[ IoU=0.50:0.95 | area=   all | maxDets= 10 ] = 0.482\n Average Recall     (AR) @[ IoU=0.50:0.95 | area=   all | maxDets=100 ] = 0.522\n Average Recall     (AR) @[ IoU=0.50:0.95 | area= small | maxDets=100 ] = 0.320\n Average Recall     (AR) @[ IoU=0.50:0.95 | area=medium | maxDets=100 ] = 0.558\n Average Recall     (AR) @[ IoU=0.50:0.95 | area= large | maxDets=100 ] = 0.698\nEvaluation finished\n4097/4098Loading and preparing results...\nDONE (t=1.73s)\ncreating index...\nindex created!\nRunning per image evaluation...\nEvaluate annotation type *bbox*\nDONE (t=26.68s).\nAccumulating evaluation results...\nDONE (t=3.56s).\n Average Precision  (AP) @[ IoU=0.50:0.95 | area=   all | maxDets=100 ] = 0.383\n Average Precision  (AP) @[ IoU=0.50      | area=   all | maxDets=100 ] = 0.585\n Average Precision  (AP) @[ IoU=0.75      | area=   all | maxDets=100 ] = 0.402\n Average Precision  (AP) @[ IoU=0.50:0.95 | area= small | maxDets=100 ] = 0.157\n Average Precision  (AP) @[ IoU=0.50:0.95 | area=medium | maxDets=100 ] = 0.403\n Average Precision  (AP) @[ IoU=0.50:0.95 | area= large | maxDets=100 ] = 0.551\n Average Recall     (AR) @[ IoU=0.50:0.95 | area=   all | maxDets=  1 ] = 0.297\n Average Recall     (AR) @[ IoU=0.50:0.95 | area=   all | maxDets= 10 ] = 0.482\n Average Recall     (AR) @[ IoU=0.50:0.95 | area=   all | maxDets=100 ] = 0.522\n Average Recall     (AR) @[ IoU=0.50:0.95 | area= small | maxDets=100 ] = 0.319\n Average Recall     (AR) @[ IoU=0.50:0.95 | area=medium | maxDets=100 ] = 0.559\n Average Recall     (AR) @[ IoU=0.50:0.95 | area= large | maxDets=100 ] = 0.699\nEvaluation finished\n"
    }
   ],
   "source": [
    "coco_eval_result_varying_k = []\n",
    "retinanet.regressionModel.gate = gate\n",
    "for i in range(1, 5):\n",
    "    retinanet.regressionModel.gate.top_k = i\n",
    "    retinanet.regressionModel.top_k = i\n",
    "    retinanet.to('cuda:0')\n",
    "    coco_eval_result_varying_k.append(coco_eval.evaluate_coco(dataset_val, retinanet)['coco_eval'].stats.copy())"
   ]
  },
  {
   "cell_type": "code",
   "execution_count": 9,
   "metadata": {
    "tags": []
   },
   "outputs": [
    {
     "output_type": "stream",
     "name": "stdout",
     "text": "mAP expert  0 0.37823608019006605\nmAP expert  1 0.38350053514101623\nmAP expert  2 0.38342461181567233\nmAP expert  3 0.3831239952232973\n\nAP50 expert  0 0.5832738723984077\nAP50 expert  1 0.58453078353178\nAP50 expert  2 0.5857936813267917\nAP50 expert  3 0.5853373356144652\n"
    }
   ],
   "source": [
    "for i in range(4):\n",
    "    print('mAP expert ', i, coco_eval_result_varying_k[i][0])\n",
    "print()\n",
    "for i in range(4):\n",
    "    print('AP50 expert ', i, coco_eval_result_varying_k[i][1])"
   ]
  },
  {
   "cell_type": "code",
   "execution_count": 10,
   "metadata": {},
   "outputs": [
    {
     "output_type": "execute_result",
     "data": {
      "text/plain": "[array([0.37823608, 0.58327387, 0.3969403 , 0.15518295, 0.39800273,\n        0.54320978, 0.29286036, 0.47547243, 0.51543793, 0.31331817,\n        0.55187021, 0.6925858 ]),\n array([0.38350054, 0.58453078, 0.40120415, 0.15735548, 0.40303119,\n        0.55164851, 0.29717311, 0.48203405, 0.52173075, 0.31960132,\n        0.55698502, 0.70046215]),\n array([0.38342461, 0.58579368, 0.40146094, 0.15759327, 0.40413959,\n        0.55051489, 0.29708235, 0.48179648, 0.52171246, 0.32018669,\n        0.55802238, 0.69786756]),\n array([0.383124  , 0.58533734, 0.40163955, 0.15704226, 0.40271278,\n        0.55092216, 0.29659983, 0.48180386, 0.52199982, 0.31875231,\n        0.55859097, 0.69891212])]"
     },
     "metadata": {},
     "execution_count": 10
    }
   ],
   "source": [
    "coco_eval_result_varying_k"
   ]
  },
  {
   "cell_type": "code",
   "execution_count": null,
   "metadata": {},
   "outputs": [],
   "source": []
  }
 ]
}