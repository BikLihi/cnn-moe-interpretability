{
 "metadata": {
  "language_info": {
   "codemirror_mode": {
    "name": "ipython",
    "version": 3
   },
   "file_extension": ".py",
   "mimetype": "text/x-python",
   "name": "python",
   "nbconvert_exporter": "python",
   "pygments_lexer": "ipython3",
   "version": "3.6.9-final"
  },
  "orig_nbformat": 2,
  "kernelspec": {
   "name": "python_defaultSpec_1600413998329",
   "display_name": "Python 3.6.9 64-bit ('venv_ml': venv)"
  }
 },
 "nbformat": 4,
 "nbformat_minor": 2,
 "cells": [
  {
   "cell_type": "code",
   "execution_count": 1,
   "metadata": {},
   "outputs": [],
   "source": [
    "import pandas as pd"
   ]
  },
  {
   "cell_type": "code",
   "execution_count": 21,
   "metadata": {},
   "outputs": [],
   "source": [
    "df_importance = pd.read_csv('utilization_importance_results.csv')\n",
    "grouped_importance = df_importance.groupby(['Model', 'NumExperts', 'Position'])\n",
    "grouped_importance.mean().reset_index().to_csv('./importance_grouped.csv')\n"
   ]
  },
  {
   "cell_type": "code",
   "execution_count": 22,
   "metadata": {},
   "outputs": [],
   "source": [
    "df_kl = pd.read_csv('utilization_kl_results.csv')\n",
    "grouped_kl = df_kl.groupby(['Model', 'NumExperts', 'Position'])\n",
    "grouped_kl.mean().reset_index().to_csv('./kl_grouped.csv')"
   ]
  },
  {
   "cell_type": "code",
   "execution_count": 2,
   "metadata": {},
   "outputs": [],
   "source": [
    "df_relative = pd.read_csv('utilization_relative_results.csv')\n",
    "grouped_relative = df_relative.groupby(['Model', 'NumExperts', 'Position'])\n",
    "grouped_relative.mean().reset_index().to_csv('./relative_grouped.csv')\n"
   ]
  },
  {
   "cell_type": "code",
   "execution_count": 3,
   "metadata": {},
   "outputs": [],
   "source": [
    "df_mean = pd.read_csv('utilization_mean_results.csv')\n",
    "grouped_mean = df_mean.groupby(['Model', 'NumExperts', 'Position'])\n",
    "grouped_mean.mean().reset_index().to_csv('./mean_grouped.csv')\n"
   ]
  }
 ]
}