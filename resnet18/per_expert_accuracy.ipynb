{
 "metadata": {
  "language_info": {
   "codemirror_mode": {
    "name": "ipython",
    "version": 3
   },
   "file_extension": ".py",
   "mimetype": "text/x-python",
   "name": "python",
   "nbconvert_exporter": "python",
   "pygments_lexer": "ipython3",
   "version": "3.8.2-final"
  },
  "orig_nbformat": 2,
  "kernelspec": {
   "name": "python_defaultSpec_1600845240792",
   "display_name": "Python 3.8.2 64-bit ('venv_ml': venv)"
  }
 },
 "nbformat": 4,
 "nbformat_minor": 2,
 "cells": [
  {
   "cell_type": "code",
   "execution_count": 7,
   "metadata": {},
   "outputs": [],
   "source": [
    "import wandb\n",
    "import torch\n",
    "import numpy as np\n",
    "import math\n",
    "from sklearn.manifold import TSNE\n",
    "import matplotlib.pyplot as plt\n",
    "from PIL import Image\n",
    "import seaborn as sns\n",
    "import torch.nn as nn\n",
    "import pandas as pd\n",
    "\n",
    "from models.resnet.resnet18 import ResNet18\n",
    "from datasets.cifar100_dataset import CIFAR100Dataset\n",
    "from utils.dataset_utils import train_test_split, get_transformation\n",
    "from utils.cifar100_utils import CIFAR100_LABELS, get_superclass, CIFAR100_DECODING\n",
    "\n",
    "from models.moe_layer.resnet18.resnet18_moe import ResNet18MoE\n",
    "from models.moe_layer.soft_gating_networks import SimpleGate\n",
    "from models.moe_layer.resnet.moe_block_layer import ResidualMoeBlockLayer, MoeBlockLayer\n",
    "from models.moe_layer.resnet18.resnet18_experts import NarrowResNet18Expert\n",
    "from torchvision import transforms\n"
   ]
  },
  {
   "cell_type": "code",
   "execution_count": 2,
   "metadata": {},
   "outputs": [],
   "source": [
    "num_experts = 4\n",
    "position = 4\n",
    "loss = 'mean'\n",
    "\n",
    "gate = SimpleGate(\n",
    "    in_channels=256, \n",
    "    num_experts=num_experts,\n",
    "    top_k=2,\n",
    "    use_noise=True,\n",
    "    name='SimpleGate',\n",
    "    loss_fkt='importance',\n",
    "    w_aux_loss=0.5\n",
    "    )\n",
    "        \n",
    "moe_layer = ResidualMoeBlockLayer(\n",
    "    num_experts=num_experts, \n",
    "    layer_position=position, \n",
    "    top_k=2,\n",
    "    gating_network=gate,\n",
    "    resnet_expert=NarrowResNet18Expert)\n",
    "\n",
    "model = ResNet18MoE(\n",
    "    moe_layers=[moe_layer],\n",
    ")\n",
    "\n",
    "file_model = wandb.restore('Residual_4_topK=2_loss=kl_divergence_w_aux=0.5_moePosition=4_0_final.tar', run_path='lukas-struppek/final_resnet_18/2wb6k7ji')\n",
    "model.load_state_dict(torch.load(file_model.name)['model_state_dict'])\n",
    "model = model.to(model.device)"
   ]
  },
  {
   "cell_type": "code",
   "execution_count": 3,
   "metadata": {},
   "outputs": [],
   "source": [
    "transformations_test = get_transformation('cifar100', phase='test')\n",
    "cifar_test = CIFAR100Dataset(root_dir='/home/lb4653/mixture-of-experts-thesis/data/cifar100/testing', transform=transformations_test)\n",
    "dataloader = torch.utils.data.DataLoader(cifar_test, batch_size=256)"
   ]
  },
  {
   "cell_type": "code",
   "execution_count": 4,
   "metadata": {},
   "outputs": [],
   "source": [
    "def varying_k_accuracy(model, moe_block):\n",
    "    transformations_test = get_transformation('cifar100', phase='test')\n",
    "    total_results = dict()\n",
    "    for k in range(1, 5):\n",
    "        moe_block.gate.top_k = k\n",
    "        eval_results = dict()\n",
    "        for label in CIFAR100_LABELS:\n",
    "            test_data = CIFAR100Dataset(root_dir='/home/lb4653/mixture-of-experts-thesis/data/cifar100/testing', transform=transformations_test, labels=[label])\n",
    "            eval_results[label] = model.evaluate(test_data)['acc']\n",
    "        test_data = CIFAR100Dataset(root_dir='/home/lb4653/mixture-of-experts-thesis/data/cifar100/testing', transform=transformations_test)\n",
    "        eval_results['total'] = model.evaluate(test_data)['acc']\n",
    "        total_results[k] = eval_results\n",
    "    return total_results"
   ]
  },
  {
   "cell_type": "code",
   "execution_count": 5,
   "metadata": {
    "tags": [
     "outputPrepend"
    ]
   },
   "outputs": [
    {
     "output_type": "stream",
     "name": "stdout",
     "text": "---------------------------\nEvaluation of  ResNet18MoE\nEvaluation on 100 samples\nEvaluation complete in  00:00:00\nEvaluation Accuracy: 0.5500\n------------------------------------ Finished Evaluation ------------------------------------\n\n------------------------------------ Beginning Evaluation ------------------------------------\nEvaluation of  ResNet18MoE\nEvaluation on 100 samples\nEvaluation complete in  00:00:00\nEvaluation Accuracy: 0.8200\n------------------------------------ Finished Evaluation ------------------------------------\n\n------------------------------------ Beginning Evaluation ------------------------------------\nEvaluation of  ResNet18MoE\nEvaluation on 100 samples\nEvaluation complete in  00:00:00\nEvaluation Accuracy: 0.8200\n------------------------------------ Finished Evaluation ------------------------------------\n\n------------------------------------ Beginning Evaluation ------------------------------------\nEvaluation of  ResNet18MoE\nEvaluation on 100 samples\nEvaluation complete in  00:00:00\nEvaluation Accuracy: 0.6700\n------------------------------------ Finished Evaluation ------------------------------------\n\n------------------------------------ Beginning Evaluation ------------------------------------\nEvaluation of  ResNet18MoE\nEvaluation on 100 samples\nEvaluation complete in  00:00:00\nEvaluation Accuracy: 0.8800\n------------------------------------ Finished Evaluation ------------------------------------\n\n------------------------------------ Beginning Evaluation ------------------------------------\nEvaluation of  ResNet18MoE\nEvaluation on 100 samples\nEvaluation complete in  00:00:00\nEvaluation Accuracy: 0.6500\n------------------------------------ Finished Evaluation ------------------------------------\n\n------------------------------------ Beginning Evaluation ------------------------------------\nEvaluation of  ResNet18MoE\nEvaluation on 100 samples\nEvaluation complete in  00:00:00\nEvaluation Accuracy: 0.8900\n------------------------------------ Finished Evaluation ------------------------------------\n\n------------------------------------ Beginning Evaluation ------------------------------------\nEvaluation of  ResNet18MoE\nEvaluation on 100 samples\nEvaluation complete in  00:00:00\nEvaluation Accuracy: 0.7300\n------------------------------------ Finished Evaluation ------------------------------------\n\n------------------------------------ Beginning Evaluation ------------------------------------\nEvaluation of  ResNet18MoE\nEvaluation on 100 samples\nEvaluation complete in  00:00:00\nEvaluation Accuracy: 0.8100\n------------------------------------ Finished Evaluation ------------------------------------\n\n------------------------------------ Beginning Evaluation ------------------------------------\nEvaluation of  ResNet18MoE\nEvaluation on 100 samples\nEvaluation complete in  00:00:00\nEvaluation Accuracy: 0.3800\n------------------------------------ Finished Evaluation ------------------------------------\n\n------------------------------------ Beginning Evaluation ------------------------------------\nEvaluation of  ResNet18MoE\nEvaluation on 100 samples\nEvaluation complete in  00:00:00\nEvaluation Accuracy: 0.5900\n------------------------------------ Finished Evaluation ------------------------------------\n\n------------------------------------ Beginning Evaluation ------------------------------------\nEvaluation of  ResNet18MoE\nEvaluation on 100 samples\nEvaluation complete in  00:00:00\nEvaluation Accuracy: 0.5100\n------------------------------------ Finished Evaluation ------------------------------------\n\n------------------------------------ Beginning Evaluation ------------------------------------\nEvaluation of  ResNet18MoE\nEvaluation on 100 samples\nEvaluation complete in  00:00:00\nEvaluation Accuracy: 0.6600\n------------------------------------ Finished Evaluation ------------------------------------\n\n------------------------------------ Beginning Evaluation ------------------------------------\nEvaluation of  ResNet18MoE\nEvaluation on 100 samples\nEvaluation complete in  00:00:00\nEvaluation Accuracy: 0.9500\n------------------------------------ Finished Evaluation ------------------------------------\n\n------------------------------------ Beginning Evaluation ------------------------------------\nEvaluation of  ResNet18MoE\nEvaluation on 100 samples\nEvaluation complete in  00:00:00\nEvaluation Accuracy: 0.8600\n------------------------------------ Finished Evaluation ------------------------------------\n\n------------------------------------ Beginning Evaluation ------------------------------------\nEvaluation of  ResNet18MoE\nEvaluation on 100 samples\nEvaluation complete in  00:00:00\nEvaluation Accuracy: 0.5200\n------------------------------------ Finished Evaluation ------------------------------------\n\n------------------------------------ Beginning Evaluation ------------------------------------\nEvaluation of  ResNet18MoE\nEvaluation on 100 samples\nEvaluation complete in  00:00:00\nEvaluation Accuracy: 0.7800\n------------------------------------ Finished Evaluation ------------------------------------\n\n------------------------------------ Beginning Evaluation ------------------------------------\nEvaluation of  ResNet18MoE\nEvaluation on 100 samples\nEvaluation complete in  00:00:00\nEvaluation Accuracy: 0.7200\n------------------------------------ Finished Evaluation ------------------------------------\n\n------------------------------------ Beginning Evaluation ------------------------------------\nEvaluation of  ResNet18MoE\nEvaluation on 100 samples\nEvaluation complete in  00:00:00\nEvaluation Accuracy: 0.9000\n------------------------------------ Finished Evaluation ------------------------------------\n\n------------------------------------ Beginning Evaluation ------------------------------------\nEvaluation of  ResNet18MoE\nEvaluation on 100 samples\nEvaluation complete in  00:00:00\nEvaluation Accuracy: 0.8300\n------------------------------------ Finished Evaluation ------------------------------------\n\n------------------------------------ Beginning Evaluation ------------------------------------\nEvaluation of  ResNet18MoE\nEvaluation on 100 samples\nEvaluation complete in  00:00:00\nEvaluation Accuracy: 0.4700\n------------------------------------ Finished Evaluation ------------------------------------\n\n------------------------------------ Beginning Evaluation ------------------------------------\nEvaluation of  ResNet18MoE\nEvaluation on 100 samples\nEvaluation complete in  00:00:00\nEvaluation Accuracy: 0.8800\n------------------------------------ Finished Evaluation ------------------------------------\n\n------------------------------------ Beginning Evaluation ------------------------------------\nEvaluation of  ResNet18MoE\nEvaluation on 100 samples\nEvaluation complete in  00:00:00\nEvaluation Accuracy: 0.8200\n------------------------------------ Finished Evaluation ------------------------------------\n\n------------------------------------ Beginning Evaluation ------------------------------------\nEvaluation of  ResNet18MoE\nEvaluation on 100 samples\nEvaluation complete in  00:00:00\nEvaluation Accuracy: 0.8600\n------------------------------------ Finished Evaluation ------------------------------------\n\n------------------------------------ Beginning Evaluation ------------------------------------\nEvaluation of  ResNet18MoE\nEvaluation on 100 samples\nEvaluation complete in  00:00:00\nEvaluation Accuracy: 0.6700\n------------------------------------ Finished Evaluation ------------------------------------\n\n------------------------------------ Beginning Evaluation ------------------------------------\nEvaluation of  ResNet18MoE\nEvaluation on 100 samples\nEvaluation complete in  00:00:00\nEvaluation Accuracy: 0.8900\n------------------------------------ Finished Evaluation ------------------------------------\n\n------------------------------------ Beginning Evaluation ------------------------------------\nEvaluation of  ResNet18MoE\nEvaluation on 100 samples\nEvaluation complete in  00:00:00\nEvaluation Accuracy: 0.6900\n------------------------------------ Finished Evaluation ------------------------------------\n\n------------------------------------ Beginning Evaluation ------------------------------------\nEvaluation of  ResNet18MoE\nEvaluation on 100 samples\nEvaluation complete in  00:00:00\nEvaluation Accuracy: 0.7500\n------------------------------------ Finished Evaluation ------------------------------------\n\n------------------------------------ Beginning Evaluation ------------------------------------\nEvaluation of  ResNet18MoE\nEvaluation on 100 samples\nEvaluation complete in  00:00:00\nEvaluation Accuracy: 0.6900\n------------------------------------ Finished Evaluation ------------------------------------\n\n------------------------------------ Beginning Evaluation ------------------------------------\nEvaluation of  ResNet18MoE\nEvaluation on 100 samples\nEvaluation complete in  00:00:00\nEvaluation Accuracy: 0.5600\n------------------------------------ Finished Evaluation ------------------------------------\n\n------------------------------------ Beginning Evaluation ------------------------------------\nEvaluation of  ResNet18MoE\nEvaluation on 100 samples\nEvaluation complete in  00:00:00\nEvaluation Accuracy: 0.5300\n------------------------------------ Finished Evaluation ------------------------------------\n\n------------------------------------ Beginning Evaluation ------------------------------------\nEvaluation of  ResNet18MoE\nEvaluation on 100 samples\nEvaluation complete in  00:00:00\nEvaluation Accuracy: 0.7900\n------------------------------------ Finished Evaluation ------------------------------------\n\n------------------------------------ Beginning Evaluation ------------------------------------\nEvaluation of  ResNet18MoE\nEvaluation on 100 samples\nEvaluation complete in  00:00:00\nEvaluation Accuracy: 0.5900\n------------------------------------ Finished Evaluation ------------------------------------\n\n------------------------------------ Beginning Evaluation ------------------------------------\nEvaluation of  ResNet18MoE\nEvaluation on 100 samples\nEvaluation complete in  00:00:00\nEvaluation Accuracy: 0.9300\n------------------------------------ Finished Evaluation ------------------------------------\n\n------------------------------------ Beginning Evaluation ------------------------------------\nEvaluation of  ResNet18MoE\nEvaluation on 100 samples\nEvaluation complete in  00:00:00\nEvaluation Accuracy: 0.8700\n------------------------------------ Finished Evaluation ------------------------------------\n\n------------------------------------ Beginning Evaluation ------------------------------------\nEvaluation of  ResNet18MoE\nEvaluation on 100 samples\nEvaluation complete in  00:00:00\nEvaluation Accuracy: 0.7600\n------------------------------------ Finished Evaluation ------------------------------------\n\n------------------------------------ Beginning Evaluation ------------------------------------\nEvaluation of  ResNet18MoE\nEvaluation on 100 samples\nEvaluation complete in  00:00:00\nEvaluation Accuracy: 0.8500\n------------------------------------ Finished Evaluation ------------------------------------\n\n------------------------------------ Beginning Evaluation ------------------------------------\nEvaluation of  ResNet18MoE\nEvaluation on 100 samples\nEvaluation complete in  00:00:00\nEvaluation Accuracy: 0.5400\n------------------------------------ Finished Evaluation ------------------------------------\n\n------------------------------------ Beginning Evaluation ------------------------------------\nEvaluation of  ResNet18MoE\nEvaluation on 100 samples\nEvaluation complete in  00:00:00\nEvaluation Accuracy: 0.6100\n------------------------------------ Finished Evaluation ------------------------------------\n\n------------------------------------ Beginning Evaluation ------------------------------------\nEvaluation of  ResNet18MoE\nEvaluation on 100 samples\nEvaluation complete in  00:00:00\nEvaluation Accuracy: 0.5000\n------------------------------------ Finished Evaluation ------------------------------------\n\n------------------------------------ Beginning Evaluation ------------------------------------\nEvaluation of  ResNet18MoE\nEvaluation on 100 samples\nEvaluation complete in  00:00:00\nEvaluation Accuracy: 0.8600\n------------------------------------ Finished Evaluation ------------------------------------\n\n------------------------------------ Beginning Evaluation ------------------------------------\nEvaluation of  ResNet18MoE\nEvaluation on 100 samples\nEvaluation complete in  00:00:00\nEvaluation Accuracy: 0.9100\n------------------------------------ Finished Evaluation ------------------------------------\n\n------------------------------------ Beginning Evaluation ------------------------------------\nEvaluation of  ResNet18MoE\nEvaluation on 100 samples\nEvaluation complete in  00:00:00\nEvaluation Accuracy: 0.7200\n------------------------------------ Finished Evaluation ------------------------------------\n\n------------------------------------ Beginning Evaluation ------------------------------------\nEvaluation of  ResNet18MoE\nEvaluation on 100 samples\nEvaluation complete in  00:00:00\nEvaluation Accuracy: 0.6800\n------------------------------------ Finished Evaluation ------------------------------------\n\n------------------------------------ Beginning Evaluation ------------------------------------\nEvaluation of  ResNet18MoE\nEvaluation on 100 samples\nEvaluation complete in  00:00:00\nEvaluation Accuracy: 0.7200\n------------------------------------ Finished Evaluation ------------------------------------\n\n------------------------------------ Beginning Evaluation ------------------------------------\nEvaluation of  ResNet18MoE\nEvaluation on 100 samples\nEvaluation complete in  00:00:00\nEvaluation Accuracy: 0.5900\n------------------------------------ Finished Evaluation ------------------------------------\n\n------------------------------------ Beginning Evaluation ------------------------------------\nEvaluation of  ResNet18MoE\nEvaluation on 100 samples\nEvaluation complete in  00:00:00\nEvaluation Accuracy: 0.7600\n------------------------------------ Finished Evaluation ------------------------------------\n\n------------------------------------ Beginning Evaluation ------------------------------------\nEvaluation of  ResNet18MoE\nEvaluation on 100 samples\nEvaluation complete in  00:00:00\nEvaluation Accuracy: 0.9100\n------------------------------------ Finished Evaluation ------------------------------------\n\n------------------------------------ Beginning Evaluation ------------------------------------\nEvaluation of  ResNet18MoE\nEvaluation on 100 samples\nEvaluation complete in  00:00:00\nEvaluation Accuracy: 0.6900\n------------------------------------ Finished Evaluation ------------------------------------\n\n------------------------------------ Beginning Evaluation ------------------------------------\nEvaluation of  ResNet18MoE\nEvaluation on 100 samples\nEvaluation complete in  00:00:00\nEvaluation Accuracy: 0.6900\n------------------------------------ Finished Evaluation ------------------------------------\n\n------------------------------------ Beginning Evaluation ------------------------------------\nEvaluation of  ResNet18MoE\nEvaluation on 100 samples\nEvaluation complete in  00:00:00\nEvaluation Accuracy: 0.8200\n------------------------------------ Finished Evaluation ------------------------------------\n\n------------------------------------ Beginning Evaluation ------------------------------------\nEvaluation of  ResNet18MoE\nEvaluation on 100 samples\nEvaluation complete in  00:00:00\nEvaluation Accuracy: 0.7100\n------------------------------------ Finished Evaluation ------------------------------------\n\n------------------------------------ Beginning Evaluation ------------------------------------\nEvaluation of  ResNet18MoE\nEvaluation on 100 samples\nEvaluation complete in  00:00:00\nEvaluation Accuracy: 0.8300\n------------------------------------ Finished Evaluation ------------------------------------\n\n------------------------------------ Beginning Evaluation ------------------------------------\nEvaluation of  ResNet18MoE\nEvaluation on 100 samples\nEvaluation complete in  00:00:00\nEvaluation Accuracy: 0.7800\n------------------------------------ Finished Evaluation ------------------------------------\n\n------------------------------------ Beginning Evaluation ------------------------------------\nEvaluation of  ResNet18MoE\nEvaluation on 100 samples\nEvaluation complete in  00:00:00\nEvaluation Accuracy: 0.8700\n------------------------------------ Finished Evaluation ------------------------------------\n\n------------------------------------ Beginning Evaluation ------------------------------------\nEvaluation of  ResNet18MoE\nEvaluation on 100 samples\nEvaluation complete in  00:00:00\nEvaluation Accuracy: 0.8100\n------------------------------------ Finished Evaluation ------------------------------------\n\n------------------------------------ Beginning Evaluation ------------------------------------\nEvaluation of  ResNet18MoE\nEvaluation on 100 samples\nEvaluation complete in  00:00:00\nEvaluation Accuracy: 0.7600\n------------------------------------ Finished Evaluation ------------------------------------\n\n------------------------------------ Beginning Evaluation ------------------------------------\nEvaluation of  ResNet18MoE\nEvaluation on 100 samples\nEvaluation complete in  00:00:00\nEvaluation Accuracy: 0.6000\n------------------------------------ Finished Evaluation ------------------------------------\n\n------------------------------------ Beginning Evaluation ------------------------------------\nEvaluation of  ResNet18MoE\nEvaluation on 100 samples\nEvaluation complete in  00:00:00\nEvaluation Accuracy: 0.5800\n------------------------------------ Finished Evaluation ------------------------------------\n\n------------------------------------ Beginning Evaluation ------------------------------------\nEvaluation of  ResNet18MoE\nEvaluation on 100 samples\nEvaluation complete in  00:00:00\nEvaluation Accuracy: 0.9300\n------------------------------------ Finished Evaluation ------------------------------------\n\n------------------------------------ Beginning Evaluation ------------------------------------\nEvaluation of  ResNet18MoE\nEvaluation on 100 samples\nEvaluation complete in  00:00:00\nEvaluation Accuracy: 0.7000\n------------------------------------ Finished Evaluation ------------------------------------\n\n------------------------------------ Beginning Evaluation ------------------------------------\nEvaluation of  ResNet18MoE\nEvaluation on 100 samples\nEvaluation complete in  00:00:00\nEvaluation Accuracy: 0.7100\n------------------------------------ Finished Evaluation ------------------------------------\n\n------------------------------------ Beginning Evaluation ------------------------------------\nEvaluation of  ResNet18MoE\nEvaluation on 100 samples\nEvaluation complete in  00:00:00\nEvaluation Accuracy: 0.7300\n------------------------------------ Finished Evaluation ------------------------------------\n\n------------------------------------ Beginning Evaluation ------------------------------------\nEvaluation of  ResNet18MoE\nEvaluation on 100 samples\nEvaluation complete in  00:00:00\nEvaluation Accuracy: 0.4600\n------------------------------------ Finished Evaluation ------------------------------------\n\n------------------------------------ Beginning Evaluation ------------------------------------\nEvaluation of  ResNet18MoE\nEvaluation on 100 samples\nEvaluation complete in  00:00:00\nEvaluation Accuracy: 0.7200\n------------------------------------ Finished Evaluation ------------------------------------\n\n------------------------------------ Beginning Evaluation ------------------------------------\nEvaluation of  ResNet18MoE\nEvaluation on 10,000 samples\nEvaluation complete in  00:00:03\nEvaluation Accuracy: 0.7272\n------------------------------------ Finished Evaluation ------------------------------------\n\n"
    }
   ],
   "source": [
    "total_results = varying_k_accuracy(model, model.layers[-1])"
   ]
  },
  {
   "cell_type": "code",
   "execution_count": 18,
   "metadata": {},
   "outputs": [],
   "source": [
    "df = pd.DataFrame(total_results)"
   ]
  },
  {
   "cell_type": "code",
   "execution_count": 20,
   "metadata": {},
   "outputs": [
    {
     "output_type": "execute_result",
     "data": {
      "text/plain": "                    1       2       3       4\napple          0.8500  0.8800  0.8800  0.8800\naquarium_fish  0.8200  0.8700  0.8800  0.8800\nbaby           0.5500  0.5800  0.5800  0.5800\nbear           0.4900  0.5200  0.5300  0.5400\nbeaver         0.5600  0.6200  0.6300  0.6300\n...               ...     ...     ...     ...\nwillow_tree    0.6800  0.7000  0.7100  0.7100\nwolf           0.7000  0.7100  0.7200  0.7300\nwoman          0.4200  0.4500  0.4600  0.4600\nworm           0.7100  0.7200  0.7200  0.7200\ntotal          0.6971  0.7205  0.7259  0.7272\n\n[101 rows x 4 columns]",
      "text/html": "<div>\n<style scoped>\n    .dataframe tbody tr th:only-of-type {\n        vertical-align: middle;\n    }\n\n    .dataframe tbody tr th {\n        vertical-align: top;\n    }\n\n    .dataframe thead th {\n        text-align: right;\n    }\n</style>\n<table border=\"1\" class=\"dataframe\">\n  <thead>\n    <tr style=\"text-align: right;\">\n      <th></th>\n      <th>1</th>\n      <th>2</th>\n      <th>3</th>\n      <th>4</th>\n    </tr>\n  </thead>\n  <tbody>\n    <tr>\n      <th>apple</th>\n      <td>0.8500</td>\n      <td>0.8800</td>\n      <td>0.8800</td>\n      <td>0.8800</td>\n    </tr>\n    <tr>\n      <th>aquarium_fish</th>\n      <td>0.8200</td>\n      <td>0.8700</td>\n      <td>0.8800</td>\n      <td>0.8800</td>\n    </tr>\n    <tr>\n      <th>baby</th>\n      <td>0.5500</td>\n      <td>0.5800</td>\n      <td>0.5800</td>\n      <td>0.5800</td>\n    </tr>\n    <tr>\n      <th>bear</th>\n      <td>0.4900</td>\n      <td>0.5200</td>\n      <td>0.5300</td>\n      <td>0.5400</td>\n    </tr>\n    <tr>\n      <th>beaver</th>\n      <td>0.5600</td>\n      <td>0.6200</td>\n      <td>0.6300</td>\n      <td>0.6300</td>\n    </tr>\n    <tr>\n      <th>...</th>\n      <td>...</td>\n      <td>...</td>\n      <td>...</td>\n      <td>...</td>\n    </tr>\n    <tr>\n      <th>willow_tree</th>\n      <td>0.6800</td>\n      <td>0.7000</td>\n      <td>0.7100</td>\n      <td>0.7100</td>\n    </tr>\n    <tr>\n      <th>wolf</th>\n      <td>0.7000</td>\n      <td>0.7100</td>\n      <td>0.7200</td>\n      <td>0.7300</td>\n    </tr>\n    <tr>\n      <th>woman</th>\n      <td>0.4200</td>\n      <td>0.4500</td>\n      <td>0.4600</td>\n      <td>0.4600</td>\n    </tr>\n    <tr>\n      <th>worm</th>\n      <td>0.7100</td>\n      <td>0.7200</td>\n      <td>0.7200</td>\n      <td>0.7200</td>\n    </tr>\n    <tr>\n      <th>total</th>\n      <td>0.6971</td>\n      <td>0.7205</td>\n      <td>0.7259</td>\n      <td>0.7272</td>\n    </tr>\n  </tbody>\n</table>\n<p>101 rows × 4 columns</p>\n</div>"
     },
     "metadata": {},
     "execution_count": 20
    }
   ],
   "source": [
    "df"
   ]
  },
  {
   "cell_type": "code",
   "execution_count": 23,
   "metadata": {},
   "outputs": [
    {
     "output_type": "execute_result",
     "data": {
      "text/plain": "                    1      2       3       4\napple          1.7000  1.760  1.7600  1.7600\naquarium_fish  1.6400  1.740  1.7600  1.7600\nbaby           1.1000  1.160  1.1600  1.1600\nbear           0.9800  1.040  1.0600  1.0800\nbeaver         1.1200  1.240  1.2600  1.2600\n...               ...    ...     ...     ...\nwillow_tree    1.3600  1.400  1.4200  1.4200\nwolf           1.4000  1.420  1.4400  1.4600\nwoman          0.8400  0.900  0.9200  0.9200\nworm           1.4200  1.440  1.4400  1.4400\ntotal          1.3942  1.441  1.4518  1.4544\n\n[101 rows x 4 columns]",
      "text/html": "<div>\n<style scoped>\n    .dataframe tbody tr th:only-of-type {\n        vertical-align: middle;\n    }\n\n    .dataframe tbody tr th {\n        vertical-align: top;\n    }\n\n    .dataframe thead th {\n        text-align: right;\n    }\n</style>\n<table border=\"1\" class=\"dataframe\">\n  <thead>\n    <tr style=\"text-align: right;\">\n      <th></th>\n      <th>1</th>\n      <th>2</th>\n      <th>3</th>\n      <th>4</th>\n    </tr>\n  </thead>\n  <tbody>\n    <tr>\n      <th>apple</th>\n      <td>1.7000</td>\n      <td>1.760</td>\n      <td>1.7600</td>\n      <td>1.7600</td>\n    </tr>\n    <tr>\n      <th>aquarium_fish</th>\n      <td>1.6400</td>\n      <td>1.740</td>\n      <td>1.7600</td>\n      <td>1.7600</td>\n    </tr>\n    <tr>\n      <th>baby</th>\n      <td>1.1000</td>\n      <td>1.160</td>\n      <td>1.1600</td>\n      <td>1.1600</td>\n    </tr>\n    <tr>\n      <th>bear</th>\n      <td>0.9800</td>\n      <td>1.040</td>\n      <td>1.0600</td>\n      <td>1.0800</td>\n    </tr>\n    <tr>\n      <th>beaver</th>\n      <td>1.1200</td>\n      <td>1.240</td>\n      <td>1.2600</td>\n      <td>1.2600</td>\n    </tr>\n    <tr>\n      <th>...</th>\n      <td>...</td>\n      <td>...</td>\n      <td>...</td>\n      <td>...</td>\n    </tr>\n    <tr>\n      <th>willow_tree</th>\n      <td>1.3600</td>\n      <td>1.400</td>\n      <td>1.4200</td>\n      <td>1.4200</td>\n    </tr>\n    <tr>\n      <th>wolf</th>\n      <td>1.4000</td>\n      <td>1.420</td>\n      <td>1.4400</td>\n      <td>1.4600</td>\n    </tr>\n    <tr>\n      <th>woman</th>\n      <td>0.8400</td>\n      <td>0.900</td>\n      <td>0.9200</td>\n      <td>0.9200</td>\n    </tr>\n    <tr>\n      <th>worm</th>\n      <td>1.4200</td>\n      <td>1.440</td>\n      <td>1.4400</td>\n      <td>1.4400</td>\n    </tr>\n    <tr>\n      <th>total</th>\n      <td>1.3942</td>\n      <td>1.441</td>\n      <td>1.4518</td>\n      <td>1.4544</td>\n    </tr>\n  </tbody>\n</table>\n<p>101 rows × 4 columns</p>\n</div>"
     },
     "metadata": {},
     "execution_count": 23
    }
   ],
   "source": [
    "df + pd.DataFrame(total_results)"
   ]
  }
 ]
}