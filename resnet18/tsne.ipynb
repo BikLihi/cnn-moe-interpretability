{
 "metadata": {
  "language_info": {
   "codemirror_mode": {
    "name": "ipython",
    "version": 3
   },
   "file_extension": ".py",
   "mimetype": "text/x-python",
   "name": "python",
   "nbconvert_exporter": "python",
   "pygments_lexer": "ipython3",
   "version": "3.6.9-final"
  },
  "orig_nbformat": 2,
  "kernelspec": {
   "name": "Python 3.6.9 64-bit ('venv_ml': venv)",
   "display_name": "Python 3.6.9 64-bit ('venv_ml': venv)",
   "metadata": {
    "interpreter": {
     "hash": "3f48779aafd11fe71496cbce97f6f9f4d2d457a48102361ba7bb05c1588472c4"
    }
   }
  }
 },
 "nbformat": 4,
 "nbformat_minor": 2,
 "cells": [
  {
   "cell_type": "code",
   "execution_count": 1,
   "metadata": {},
   "outputs": [],
   "source": [
    "import wandb\n",
    "import torch\n",
    "import numpy as np\n",
    "import math\n",
    "from sklearn.manifold import TSNE\n",
    "import matplotlib.pyplot as plt\n",
    "from PIL import Image\n",
    "import seaborn as sns\n",
    "import torch.nn as nn\n",
    "\n",
    "from models.resnet.resnet18 import ResNet18\n",
    "from datasets.cifar100_dataset import CIFAR100Dataset\n",
    "from utils.dataset_utils import train_test_split, get_transformation\n",
    "from utils.cifar100_utils import CIFAR100_LABELS, get_superclass, CIFAR100_DECODING\n",
    "\n",
    "from models.moe_layer.resnet18.resnet18_moe import ResNet18MoE\n",
    "from models.moe_layer.soft_gating_networks import SimpleGate\n",
    "from models.moe_layer.resnet.moe_block_layer import ResidualMoeBlockLayer, MoeBlockLayer\n",
    "from models.moe_layer.resnet18.resnet18_experts import NarrowResNet18Expert\n",
    "from torchvision import transforms\n"
   ]
  },
  {
   "cell_type": "code",
   "execution_count": 2,
   "metadata": {},
   "outputs": [],
   "source": [
    "num_experts = 4\n",
    "position = 4\n",
    "loss = 'importance'\n",
    "\n",
    "gate = SimpleGate(\n",
    "    in_channels=256, \n",
    "    num_experts=num_experts,\n",
    "    top_k=2,\n",
    "    use_noise=True,\n",
    "    name='SimpleGate',\n",
    "    loss_fkt='importance',\n",
    "    w_aux_loss=0.5\n",
    "    )\n",
    "        \n",
    "moe_layer = ResidualMoeBlockLayer(\n",
    "    num_experts=num_experts, \n",
    "    layer_position=position, \n",
    "    top_k=2,\n",
    "    gating_network=gate,\n",
    "    resnet_expert=NarrowResNet18Expert)\n",
    "\n",
    "model = ResNet18MoE(\n",
    "    moe_layers=[moe_layer],\n",
    ")\n",
    "\n",
    "# file_model = wandb.restore('Residual_4_topK=2_loss=importance_w_aux=0.5_moePosition=1_1_final.tar', run_path='lukas-struppek/final_resnet_18/16aj0dnf')\n",
    "# model.load_state_dict(torch.load(file_model.name)['model_state_dict'])\n",
    "file_model = wandb.restore('Residual_4_topK=2_loss=importance_w_aux=0.5_moePosition=4_2_final.tar', run_path='lukas-struppek/final_resnet_18/1ezu238w')\n",
    "model.load_state_dict(torch.load(file_model.name)['model_state_dict'])\n",
    "model = model.to(model.device)"
   ]
  },
  {
   "cell_type": "code",
   "execution_count": 3,
   "metadata": {},
   "outputs": [],
   "source": [
    "transformations_test = get_transformation('cifar100', phase='test')\n",
    "no_transform = get_transformation('no_transform')\n",
    "cifar_test = CIFAR100Dataset(root_dir='/home/lb4653/mixture-of-experts-thesis/data/cifar100/testing', transform=transformations_test)\n",
    "cifar_test_no_transform = CIFAR100Dataset(root_dir='/home/lb4653/mixture-of-experts-thesis/data/cifar100/testing', transform=no_transform)\n",
    "dataloader = torch.utils.data.DataLoader(cifar_test, batch_size=256)"
   ]
  },
  {
   "cell_type": "code",
   "execution_count": 4,
   "metadata": {},
   "outputs": [],
   "source": [
    "class Hook:\n",
    "    def __init__(self, module):\n",
    "        self.hook = module.register_forward_hook(self.hook_fn)\n",
    "        self.inputs = []\n",
    "        self.outputs = []\n",
    "        self.weights = []\n",
    "        self.selected_experts = []\n",
    "        \n",
    "    def hook_fn(self, module, input, output):\n",
    "        for pred in output:\n",
    "            self.outputs.append(pred.detach().cpu().numpy())\n",
    "            top_k_logits, top_k_indices = pred.topk(2)\n",
    "            top_k_weights = nn.functional.softmax(top_k_logits)\n",
    "            weights = torch.zeros(num_experts, requires_grad=False)\n",
    "            weights[top_k_indices[0]] = top_k_weights[0]\n",
    "            weights[top_k_indices[1]] = top_k_weights[1]\n",
    "            self.weights.append(weights.detach().cpu().numpy())\n",
    "            experts = [top_k_indices[0].cpu().item(), top_k_indices[1].cpu().item()]\n",
    "            self.selected_experts.append(experts)\n",
    "        \n",
    "    def close(self):\n",
    "        self.hook.remove()\n"
   ]
  },
  {
   "cell_type": "code",
   "execution_count": 5,
   "metadata": {},
   "outputs": [],
   "source": [
    "hook = Hook(model.layers[position-1].gate.fc)"
   ]
  },
  {
   "cell_type": "code",
   "execution_count": 6,
   "metadata": {
    "tags": []
   },
   "outputs": [],
   "source": [
    "labels = []\n",
    "superclass_labels = []\n",
    "for image, label in dataloader:\n",
    "    for l in label:\n",
    "        labels.append(CIFAR100_DECODING[l.cpu().item()])\n",
    "        superclass_labels.append(get_superclass(CIFAR100_DECODING[l.cpu().item()]))\n",
    "    model(image.to('cuda:0'))"
   ]
  },
  {
   "cell_type": "code",
   "execution_count": 7,
   "metadata": {
    "tags": []
   },
   "outputs": [
    {
     "output_type": "stream",
     "name": "stdout",
     "text": "[t-SNE] Computing 46 nearest neighbors...\n[t-SNE] Indexed 10000 samples in 0.004s...\n[t-SNE] Computed neighbors for 10000 samples in 0.117s...\n[t-SNE] Computed conditional probabilities for sample 1000 / 10000\n[t-SNE] Computed conditional probabilities for sample 2000 / 10000\n[t-SNE] Computed conditional probabilities for sample 3000 / 10000\n[t-SNE] Computed conditional probabilities for sample 4000 / 10000\n[t-SNE] Computed conditional probabilities for sample 5000 / 10000\n[t-SNE] Computed conditional probabilities for sample 6000 / 10000\n[t-SNE] Computed conditional probabilities for sample 7000 / 10000\n[t-SNE] Computed conditional probabilities for sample 8000 / 10000\n[t-SNE] Computed conditional probabilities for sample 9000 / 10000\n[t-SNE] Computed conditional probabilities for sample 10000 / 10000\n[t-SNE] Mean sigma: 0.200277\n[t-SNE] KL divergence after 250 iterations with early exaggeration: 95.310150\n[t-SNE] KL divergence after 1500 iterations: 2.135578\n"
    }
   ],
   "source": [
    "tsne = TSNE(n_components=2, perplexity=15, learning_rate=5, verbose=1, n_iter=1500).fit_transform(hook.outputs)"
   ]
  },
  {
   "cell_type": "code",
   "execution_count": 8,
   "metadata": {},
   "outputs": [],
   "source": [
    "tx, ty = tsne[:,0], tsne[:,1]\n",
    "tx = (tx-np.min(tx)) / (np.max(tx) - np.min(tx))\n",
    "ty = (ty-np.min(ty)) / (np.max(ty) - np.min(ty))\n",
    "\n",
    "df_subset = dict()\n",
    "df_subset['tsne-2d-one'] = tx\n",
    "df_subset['tsne-2d-two'] = ty"
   ]
  },
  {
   "cell_type": "code",
   "execution_count": 9,
   "metadata": {
    "tags": []
   },
   "outputs": [],
   "source": [
    "width = 3500\n",
    "height = 3500\n",
    "max_dim = 100\n",
    "full_image = Image.new('RGB', (width, height))\n",
    "for idx, x in enumerate(cifar_test_no_transform):\n",
    "    tile = transforms.ToPILImage()(x[0].squeeze_(0))\n",
    "\n",
    "    rs = max(1, tile.width / max_dim, tile.height / max_dim)\n",
    "    tile = tile.resize((int(tile.width / rs),\n",
    "                        int(tile.height / rs)),\n",
    "                    Image.ANTIALIAS)\n",
    "    full_image.paste(tile, (int((width-max_dim) * tx[idx]),\n",
    "                            int((height-max_dim) * ty[idx])))\n",
    "full_image.save('./images/{}_pos{}_exp{}_logits.png'.format(loss, position, num_experts))"
   ]
  },
  {
   "cell_type": "code",
   "execution_count": 10,
   "metadata": {},
   "outputs": [],
   "source": [
    "for exp in range(4):\n",
    "    width = 3500\n",
    "    height = 3500\n",
    "    max_dim = 100\n",
    "    full_image = Image.new('RGB', (width, height))\n",
    "    for idx, x in enumerate(cifar_test_no_transform):\n",
    "        if exp in hook.selected_experts[idx]:\n",
    "            tile = transforms.ToPILImage()(x[0].squeeze_(0))\n",
    "\n",
    "            rs = max(1, tile.width / max_dim, tile.height / max_dim)\n",
    "            tile = tile.resize((int(tile.width / rs),\n",
    "                                int(tile.height / rs)),\n",
    "                            Image.ANTIALIAS)\n",
    "            full_image.paste(tile, (int((width-max_dim) * tx[idx]),\n",
    "                                    int((height-max_dim) * ty[idx])))\n",
    "    full_image.save('./images/{}_pos{}_exp{}_logits_expert{}.png'.format(loss, position, num_experts, exp))"
   ]
  },
  {
   "cell_type": "code",
   "execution_count": 11,
   "metadata": {
    "tags": []
   },
   "outputs": [
    {
     "output_type": "stream",
     "name": "stdout",
     "text": "[t-SNE] Computing 91 nearest neighbors...\n[t-SNE] Indexed 10000 samples in 0.020s...\n[t-SNE] Computed neighbors for 10000 samples in 0.098s...\n[t-SNE] Computed conditional probabilities for sample 1000 / 10000\n[t-SNE] Computed conditional probabilities for sample 2000 / 10000\n[t-SNE] Computed conditional probabilities for sample 3000 / 10000\n[t-SNE] Computed conditional probabilities for sample 4000 / 10000\n[t-SNE] Computed conditional probabilities for sample 5000 / 10000\n[t-SNE] Computed conditional probabilities for sample 6000 / 10000\n[t-SNE] Computed conditional probabilities for sample 7000 / 10000\n[t-SNE] Computed conditional probabilities for sample 8000 / 10000\n[t-SNE] Computed conditional probabilities for sample 9000 / 10000\n[t-SNE] Computed conditional probabilities for sample 10000 / 10000\n[t-SNE] Mean sigma: 0.006425\n[t-SNE] KL divergence after 250 iterations with early exaggeration: 80.477547\n[t-SNE] KL divergence after 1500 iterations: 0.910992\n"
    }
   ],
   "source": [
    "tsne = TSNE(n_components=2, perplexity=30, learning_rate=5, verbose=1, n_iter=1500).fit_transform(hook.weights)\n",
    "\n",
    "tx, ty = tsne[:,0], tsne[:,1]\n",
    "tx = (tx-np.min(tx)) / (np.max(tx) - np.min(tx))\n",
    "ty = (ty-np.min(ty)) / (np.max(ty) - np.min(ty))\n",
    "\n",
    "df_subset = dict()\n",
    "df_subset['tsne-2d-one'] = tx\n",
    "df_subset['tsne-2d-two'] = ty"
   ]
  },
  {
   "source": [
    "width = 3500\n",
    "height = 3500\n",
    "max_dim = 100\n",
    "full_image = Image.new('RGB', (width, height))\n",
    "for idx, x in enumerate(cifar_test_no_transform):\n",
    "    tile = transforms.ToPILImage()(x[0].squeeze_(0))\n",
    "\n",
    "    rs = max(1, tile.width / max_dim, tile.height / max_dim)\n",
    "    tile = tile.resize((int(tile.width / rs),\n",
    "                        int(tile.height / rs)),\n",
    "                       Image.ANTIALIAS)\n",
    "    full_image.paste(tile, (int((width-max_dim) * tx[idx]),\n",
    "                            int((height-max_dim) * ty[idx])))\n",
    "full_image.save('./images/{}_pos{}_exp{}_weights.png'.format(loss, position, num_experts))"
   ],
   "cell_type": "code",
   "metadata": {},
   "execution_count": 12,
   "outputs": []
  },
  {
   "cell_type": "code",
   "execution_count": 13,
   "metadata": {},
   "outputs": [],
   "source": [
    "for exp in range(4):\n",
    "    width = 3500\n",
    "    height = 3500\n",
    "    max_dim = 100\n",
    "    full_image = Image.new('RGB', (width, height))\n",
    "    for idx, x in enumerate(cifar_test_no_transform):\n",
    "        if exp in hook.selected_experts[idx]:\n",
    "            tile = transforms.ToPILImage()(x[0].squeeze_(0))\n",
    "\n",
    "            rs = max(1, tile.width / max_dim, tile.height / max_dim)\n",
    "            tile = tile.resize((int(tile.width / rs),\n",
    "                                int(tile.height / rs)),\n",
    "                            Image.ANTIALIAS)\n",
    "            full_image.paste(tile, (int((width-max_dim) * tx[idx]),\n",
    "                                    int((height-max_dim) * ty[idx])))\n",
    "    full_image.save('./images/{}_pos{}_exp{}_weights_expert{}.png'.format(loss, position, num_experts, exp))"
   ]
  },
  {
   "cell_type": "code",
   "execution_count": null,
   "metadata": {},
   "outputs": [],
   "source": [
    "for label in ['skyscraper', 'bus', 'lobster', 'man', 'leopard']:\n",
    "    width = 3500\n",
    "    height = 3500\n",
    "    max_dim = 100\n",
    "    full_image = Image.new('RGB', (width, height))\n",
    "    for idx, x in enumerate(cifar_test_no_transform):\n",
    "        if CIFAR100_DECODING[x[1]] == label:\n",
    "            tile = transforms.ToPILImage()(x[0].squeeze_(0))\n",
    "\n",
    "            rs = max(1, tile.width / max_dim, tile.height / max_dim)\n",
    "            tile = tile.resize((int(tile.width / rs),\n",
    "                                int(tile.height / rs)),\n",
    "                            Image.ANTIALIAS)\n",
    "            full_image.paste(tile, (int((width-max_dim) * tx[idx]),\n",
    "                                    int((height-max_dim) * ty[idx])))\n",
    "\n",
    "    full_image.save('./images/{}_pos{}_exp{}_weights_label_{}.png'.format(loss, position, num_experts, label))"
   ]
  },
  {
   "cell_type": "code",
   "execution_count": 14,
   "metadata": {},
   "outputs": [],
   "source": [
    "from sklearn.decomposition import PCA\n",
    "pca = PCA(n_components=2)\n",
    "results = pca.fit_transform(hook.outputs)"
   ]
  },
  {
   "cell_type": "code",
   "execution_count": 15,
   "metadata": {},
   "outputs": [],
   "source": [
    "tx, ty = results[:,0], results[:,1]\n",
    "tx = (tx-np.min(tx)) / (np.max(tx) - np.min(tx))\n",
    "ty = (ty-np.min(ty)) / (np.max(ty) - np.min(ty))\n",
    "\n",
    "df_subset = dict()\n",
    "df_subset['tsne-2d-one'] = tx\n",
    "df_subset['tsne-2d-two'] = ty"
   ]
  },
  {
   "cell_type": "code",
   "execution_count": 16,
   "metadata": {
    "tags": []
   },
   "outputs": [],
   "source": [
    "width = 3500\n",
    "height = 3500\n",
    "max_dim = 100\n",
    "full_image = Image.new('RGB', (width, height))\n",
    "for idx, x in enumerate(cifar_test_no_transform):\n",
    "    tile = transforms.ToPILImage()(x[0].squeeze_(0))\n",
    "\n",
    "    rs = max(1, tile.width / max_dim, tile.height / max_dim)\n",
    "    tile = tile.resize((int(tile.width / rs),\n",
    "                        int(tile.height / rs)),\n",
    "                       Image.ANTIALIAS)\n",
    "    full_image.paste(tile, (int((width-max_dim) * tx[idx]),\n",
    "                            int((height-max_dim) * ty[idx])))\n",
    "\n",
    "full_image.save('./images/{}_pos{}_exp{}_pca.png'.format(loss, position, num_experts))"
   ]
  },
  {
   "cell_type": "code",
   "execution_count": 18,
   "metadata": {},
   "outputs": [],
   "source": [
    "for exp in range(4):\n",
    "    width = 3500\n",
    "    height = 3500\n",
    "    max_dim = 100\n",
    "    full_image = Image.new('RGB', (width, height))\n",
    "    for idx, x in enumerate(cifar_test_no_transform):\n",
    "        if exp in hook.selected_experts[idx]:\n",
    "            tile = transforms.ToPILImage()(x[0].squeeze_(0))\n",
    "\n",
    "            rs = max(1, tile.width / max_dim, tile.height / max_dim)\n",
    "            tile = tile.resize((int(tile.width / rs),\n",
    "                                int(tile.height / rs)),\n",
    "                            Image.ANTIALIAS)\n",
    "            full_image.paste(tile, (int((width-max_dim) * tx[idx]),\n",
    "                                    int((height-max_dim) * ty[idx])))\n",
    "\n",
    "    full_image.save('./images/{}_pos{}_exp{}_pca_expert{}.png'.format(loss, position, num_experts, exp))"
   ]
  }
 ]
}