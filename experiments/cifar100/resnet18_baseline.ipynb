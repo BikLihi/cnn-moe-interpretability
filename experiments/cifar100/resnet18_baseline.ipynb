{
 "cells": [
  {
   "cell_type": "markdown",
   "metadata": {},
   "source": [
    "Notebook to train a baseline model on the CIFAR100 dataset using a ResNet-like architecture. The model is trained on the full CIFAR100 training set. Data augmentation is applied on the training set including random cropping and random horizontal flipping. The tensors are then normalized. Test and evaluation data are not augmented but only normalized."
   ]
  },
  {
   "cell_type": "code",
   "execution_count": 1,
   "metadata": {},
   "outputs": [],
   "source": [
    "import torch\n",
    "import torchvision\n",
    "\n",
    "from models.resnet.restnet18 import Resnet18\n",
    "from datasets.cifar100_dataset import CIFAR100Dataset\n",
    "\n",
    "from torchsummary import summary\n",
    "\n",
    "from utils.dataset_utils import train_test_split\n",
    "from utils.cifar100_utils import CIFAR100_LABELS"
   ]
  },
  {
   "cell_type": "code",
   "execution_count": 2,
   "metadata": {},
   "outputs": [],
   "source": [
    "transformations_training = torchvision.transforms.Compose([\n",
    "                torchvision.transforms.RandomHorizontalFlip(p=0.5),\n",
    "                torchvision.transforms.RandomCrop(size=32, padding=4),\n",
    "                torchvision.transforms.ToTensor(),\n",
    "                torchvision.transforms.Normalize(mean=[0.507, 0.487, 0.441], std=[0.267, 0.256, 0.276])\n",
    "])\n",
    "\n",
    "transformations_test = torchvision.transforms.Compose([\n",
    "                torchvision.transforms.ToTensor(),\n",
    "                torchvision.transforms.Normalize(mean=[0.507, 0.487, 0.441], std=[0.267, 0.256, 0.276])\n",
    "])"
   ]
  },
  {
   "cell_type": "code",
   "execution_count": 3,
   "metadata": {},
   "outputs": [],
   "source": [
    "cifar_data = CIFAR100Dataset(root_dir='../../data/cifar100/training', transform=transformations_training)\n",
    "training_data, validation_data = train_test_split(cifar_data, [0.8, 0.2])\n",
    "validation_data.transform = transformations_test\n",
    "test_data = CIFAR100Dataset(root_dir='../../data/cifar100/testing', transform=transformations_test)"
   ]
  },
  {
   "cell_type": "code",
   "execution_count": 4,
   "metadata": {},
   "outputs": [],
   "source": [
    "model = Resnet18(classes=CIFAR100_LABELS, name='Cifar100 Baseline')"
   ]
  },
  {
   "cell_type": "code",
   "execution_count": 5,
   "metadata": {},
   "outputs": [
    {
     "output_type": "execute_result",
     "data": {
      "text/plain": "<All keys matched successfully>"
     },
     "metadata": {},
     "execution_count": 5
    }
   ],
   "source": [
    "model.load_state_dict(torch.load('./trained_models/baseline_model.pth'))\n",
    "# model.fit(\n",
    "#     training_data=training_data,\n",
    "#     validation_data=validation_data,\n",
    "#     num_epochs=50,\n",
    "#     batch_size=256,\n",
    "#     learning_rate=0.01,\n",
    "#     save_state_path='./trained_models/baseline_model.pth',\n",
    "#     return_best_model=True\n",
    "# )"
   ]
  },
  {
   "cell_type": "code",
   "execution_count": 6,
   "metadata": {},
   "outputs": [
    {
     "output_type": "execute_result",
     "data": {
      "text/plain": "{'acc': 0.5787, 'name': 'Cifar100 Baseline'}"
     },
     "metadata": {},
     "execution_count": 6
    }
   ],
   "source": [
    "model.evaluate(test_data)"
   ]
  }
 ],
 "metadata": {
  "language_info": {
   "codemirror_mode": {
    "name": "ipython",
    "version": 3
   },
   "file_extension": ".py",
   "mimetype": "text/x-python",
   "name": "python",
   "nbconvert_exporter": "python",
   "pygments_lexer": "ipython3",
   "version": "3.6.9-final"
  },
  "orig_nbformat": 2,
  "kernelspec": {
   "name": "python36964bitvenvmlvenv7a6f23f66d6c4cc6a83917ebc7c4e253",
   "display_name": "Python 3.6.9 64-bit ('venv_ml': venv)"
  }
 },
 "nbformat": 4,
 "nbformat_minor": 2
}